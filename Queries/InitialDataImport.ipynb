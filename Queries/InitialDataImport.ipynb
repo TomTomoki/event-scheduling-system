{
    "metadata": {
        "kernelspec": {
            "name": "python3",
            "display_name": "Python 3 (ipykernel)",
            "language": "python"
        },
        "language_info": {
            "name": "python",
            "version": "3.9.12",
            "mimetype": "text/x-python",
            "codemirror_mode": {
                "name": "ipython",
                "version": 3
            },
            "pygments_lexer": "ipython3",
            "nbconvert_exporter": "python",
            "file_extension": ".py"
        }
    },
    "nbformat_minor": 2,
    "nbformat": 4,
    "cells": [
        {
            "cell_type": "code",
            "source": [
                "import psycopg\n",
                "import pandas as pd\n",
                "import numpy as np"
            ],
            "metadata": {
                "azdata_cell_guid": "d5962f5f-c971-439b-a257-691b70df7a77",
                "language": "python",
                "tags": []
            },
            "outputs": [],
            "execution_count": 129
        },
        {
            "cell_type": "code",
            "source": [
                "department = pd.read_csv('department.csv')\n",
                "staff = pd.read_csv('Staff.csv')\n",
                "event = pd.read_csv('Event.csv')\n",
                "building = pd.read_csv('Building.csv')\n",
                "room = pd.read_csv('Room.csv')\n",
                "room['RoomName'] = room.RoomName.astype('str')\n",
                "ra = pd.read_csv('RoomAssignment.csv')\n",
                "schedule = pd.read_excel('schedule.xlsx')"
            ],
            "metadata": {
                "language": "python",
                "azdata_cell_guid": "edf11ec3-9457-43c6-a9e4-d6568158127b",
                "tags": []
            },
            "outputs": [],
            "execution_count": 130
        },
        {
            "cell_type": "code",
            "source": [
                "param_dic = {\n",
                "    \"host\"      : \"localhost\",\n",
                "    \"dbname\"    : \"schedulingsystem\",\n",
                "    \"port\"      : \"5432\",\n",
                "    \"user\"      : \"postgres\",\n",
                "    \"password\"  : \"test0000\"\n",
                "}\n",
                "conn = psycopg.connect(**param_dic)\n",
                "cur = conn.cursor()"
            ],
            "metadata": {
                "azdata_cell_guid": "16930626-44c4-41a2-b186-1927abcccf57",
                "language": "python"
            },
            "outputs": [],
            "execution_count": 132
        },
        {
            "cell_type": "code",
            "source": [
                "for index, row in department.iterrows():\n",
                "     cur.execute(\"INSERT INTO Department (DepartmentID,DepartmentName) values(%s, %s)\", (row.DepartmentID, row.DepartmentName))\n",
                "conn.commit()"
            ],
            "metadata": {
                "language": "python",
                "azdata_cell_guid": "b85b39fe-cb06-42f2-83fd-cbf2d294eb2a",
                "tags": []
            },
            "outputs": [],
            "execution_count": 133
        },
        {
            "cell_type": "code",
            "source": [
                "for index, row in staff.iterrows():\n",
                "     cur.execute(\"INSERT INTO Staff (StaffID,DepartmentID,StaffFirstName, StaffLastName,StaffEmail) values(%s, %s,%s,%s,%s)\", (row.StaffID,row.DepartmentID, row.StaffFirstName,row.StaffLastName,row.StaffEmail))\n",
                "conn.commit()"
            ],
            "metadata": {
                "language": "python",
                "azdata_cell_guid": "9f5d00d2-f68a-4587-94a5-50cc16e8fc5c"
            },
            "outputs": [],
            "execution_count": 134
        },
        {
            "cell_type": "code",
            "source": [
                "for index, row in event.iterrows():\n",
                "     cur.execute(\"INSERT INTO Event (EventID,EventName, MainContact) values(%s, %s,%s)\", (row.EventID,row.EventName,row.MainContact))\n",
                "conn.commit()"
            ],
            "metadata": {
                "language": "python",
                "azdata_cell_guid": "3733c53a-99a3-4c00-939e-a363436bebd6"
            },
            "outputs": [],
            "execution_count": 135
        },
        {
            "cell_type": "code",
            "source": [
                "for index, row in building.iterrows():\n",
                "     cur.execute(\"INSERT INTO Building (BuildingID,BuildingName, BuildingAddress) values(%s, %s,%s)\", (row.BuildingID,row.BuildingName,row.BuildingAddress))\n",
                "conn.commit()"
            ],
            "metadata": {
                "language": "python",
                "azdata_cell_guid": "c800c69a-2a5a-4089-9819-8b7fc260a63c"
            },
            "outputs": [],
            "execution_count": 136
        },
        {
            "cell_type": "code",
            "source": [
                "for index, row in room.iterrows():\n",
                "     cur.execute(\"INSERT INTO Room (RoomID,RoomName, BuildingID,Capacity) values(%s, %s,%s,%s)\", (row.RoomID,row.RoomName,row.BuildingID,row.Capacity))\n",
                "conn.commit()"
            ],
            "metadata": {
                "language": "python",
                "azdata_cell_guid": "7269d7ac-5225-4ab2-bbfe-1da4818390e5"
            },
            "outputs": [],
            "execution_count": 137
        },
        {
            "cell_type": "code",
            "source": [
                "for index, row in ra.iterrows():\n",
                "     cur.execute(\"INSERT INTO RoomAssignment (RoomAssignmentID,EventID,RoomID,ExpectedParticipant) values(%s, %s,%s,%s)\", (row.RoomAssignmentID,row.EventID, row.RoomID,row.ExpectedParticipant))\n",
                "conn.commit()"
            ],
            "metadata": {
                "language": "python",
                "azdata_cell_guid": "2929e025-8fd8-43df-a8f2-9a6201505916"
            },
            "outputs": [],
            "execution_count": 138
        },
        {
            "cell_type": "code",
            "source": [
                "for index, row in schedule.iterrows():\n",
                "     cur.execute(\"INSERT INTO Schedule (ScheduleID,RoomAssignmentID, ScheduledDate,StartTime, EndTime, Recurring, DayOfWeek) values(%s, %s,%s,%s,%s,%s,%s)\", (row.ScheduleID,row.RoomAssignmentID, row.ScheduleDate,row.StartTime,row.EndTime, row.Recurring,row.DayofWeek))\n",
                "conn.commit()"
            ],
            "metadata": {
                "language": "python",
                "azdata_cell_guid": "491c1fea-e752-407a-976b-cd7e0619de46",
                "tags": []
            },
            "outputs": [],
            "execution_count": 139
        },
        {
            "cell_type": "code",
            "source": [
                "conn.close()"
            ],
            "metadata": {
                "language": "python",
                "azdata_cell_guid": "ce9f90a4-1948-45cb-ad06-e789d02c85b1"
            },
            "outputs": [],
            "execution_count": 97
        }
    ]
}